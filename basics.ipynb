{
 "cells": [
  {
   "cell_type": "markdown",
   "id": "06f3710a-9633-4321-a16d-e0abf7712ff3",
   "metadata": {},
   "source": [
    "#### single neuron"
   ]
  },
  {
   "cell_type": "code",
   "execution_count": 1,
   "id": "fb0c821d-db0d-4204-bb24-3c34b0760049",
   "metadata": {},
   "outputs": [],
   "source": [
    "inputs = [1,2,3]\n",
    "weights = [0.2, 0.8, -0.5]\n",
    "bias = 2"
   ]
  },
  {
   "cell_type": "code",
   "execution_count": 2,
   "id": "2ed5a0a2-6919-43e0-981b-ca8eddfa08f1",
   "metadata": {},
   "outputs": [
    {
     "name": "stdout",
     "output_type": "stream",
     "text": [
      "2.3\n"
     ]
    }
   ],
   "source": [
    "output = inputs[0]*weights[0] + inputs[1]*weights[1]+ inputs[2]*weights[2] +bias\n",
    "print(output)"
   ]
  },
  {
   "cell_type": "markdown",
   "id": "da722046-bcf4-4ea1-b841-9fa11daf7373",
   "metadata": {},
   "source": [
    "##### adding an input"
   ]
  },
  {
   "cell_type": "code",
   "execution_count": 3,
   "id": "3ae24c47-ed96-4b85-bb7d-85fa8c4e9285",
   "metadata": {},
   "outputs": [],
   "source": [
    "inputs = [1,2,3, 2.5]\n",
    "weights = [0.2, 0.8, -0.5, 1.0]\n",
    "bias = 2"
   ]
  },
  {
   "cell_type": "code",
   "execution_count": 7,
   "id": "2c05ff98-a2fa-43a9-be0e-24e146305dfd",
   "metadata": {},
   "outputs": [
    {
     "name": "stdout",
     "output_type": "stream",
     "text": [
      "4.8\n"
     ]
    }
   ],
   "source": [
    "output = inputs[0]*weights[0] +inputs[1]*weights[1]+ inputs[2]*weights[2]+ inputs[3]*weights[3] +bias\n",
    "print(output)\n"
   ]
  },
  {
   "cell_type": "markdown",
   "id": "caae9b3b-ebb9-4379-8646-be045360b128",
   "metadata": {},
   "source": [
    "#### Layer of Neuron"
   ]
  },
  {
   "cell_type": "code",
   "execution_count": 8,
   "id": "d6d38b11-fd59-4589-9e89-172b464a2bed",
   "metadata": {},
   "outputs": [],
   "source": [
    "inputs = [1,2,3, 2.5]\n",
    "weights1 = [0.2, 0.8, -0.5, 1.0]\n",
    "weights2 = [0.5, -0.91, 0.26, -0.5]\n",
    "weights3 = [-0.26, -0.27, 0.17, 0.87]\n",
    "\n",
    "bias1 = 2\n",
    "bias2 = 3\n",
    "bias3 = 0.5"
   ]
  },
  {
   "cell_type": "code",
   "execution_count": 9,
   "id": "765bc094-b551-4fab-88a5-de022570ff25",
   "metadata": {},
   "outputs": [],
   "source": [
    "outputs = [\n",
    "    # first neuron\n",
    "    inputs[0] * weights1[0]+\n",
    "    inputs[1] * weights1[1]+\n",
    "    inputs[2] * weights1[2]+\n",
    "    inputs[3] * weights1[3]+ bias1 ,\n",
    "\n",
    "    # second\n",
    "    inputs[0] * weights2[0]+\n",
    "    inputs[1] * weights2[1]+\n",
    "    inputs[2] * weights2[2]+\n",
    "    inputs[3] * weights2[3]+ bias2,\n",
    "\n",
    "    # third neuron\n",
    "    inputs[0] * weights3[0]+\n",
    "    inputs[1] * weights3[1]+\n",
    "    inputs[2] * weights3[2]+\n",
    "    inputs[3] * weights3[3]+ bias3\n",
    "    \n",
    "]"
   ]
  },
  {
   "cell_type": "code",
   "execution_count": 10,
   "id": "0f3c4a51-0d19-48f4-bdb0-78ccadb583ad",
   "metadata": {},
   "outputs": [
    {
     "name": "stdout",
     "output_type": "stream",
     "text": [
      "[4.8, 1.21, 2.385]\n"
     ]
    }
   ],
   "source": [
    "print(outputs)"
   ]
  },
  {
   "cell_type": "markdown",
   "id": "6e533f3f-f080-4089-af65-a461c75fd7ae",
   "metadata": {},
   "source": [
    "#### calculating through loops"
   ]
  },
  {
   "cell_type": "code",
   "execution_count": 13,
   "id": "cf0d0d11-2351-4e78-b191-4cd42aad916e",
   "metadata": {},
   "outputs": [],
   "source": [
    "inputs = [1,2,3, 2.5]\n",
    "weights = [[0.2, 0.8, -0.5, 1.0], \n",
    "           [0.5, -0.91, 0.26, -0.5],\n",
    "           [-0.26, -0.27, 0.17, 0.87]]\n",
    "\n",
    "biases = [2, 3 ,0.5]"
   ]
  },
  {
   "cell_type": "code",
   "execution_count": 12,
   "id": "d1dc63af-044c-4016-aac0-6fb41afbccd9",
   "metadata": {},
   "outputs": [],
   "source": [
    "layers_output = []"
   ]
  },
  {
   "cell_type": "code",
   "execution_count": 14,
   "id": "8a218edf-db7f-429a-ac76-bc300daf3ce3",
   "metadata": {},
   "outputs": [
    {
     "name": "stdout",
     "output_type": "stream",
     "text": [
      "[4.8, 1.21, 2.385]\n"
     ]
    }
   ],
   "source": [
    "# for each neuron\n",
    "for neuron_weights, neuron_bias in zip(weights, biases):\n",
    "    # setting a variable\n",
    "    neuron_output = 0\n",
    "    # for each input and weight \n",
    "    for n_input, weight in zip(inputs, neuron_weights):\n",
    "        neuron_output += n_input *  weight\n",
    "\n",
    "    neuron_output +=  neuron_bias\n",
    "\n",
    "    layers_output.append(neuron_output)\n",
    "\n",
    "print(layers_output)"
   ]
  },
  {
   "cell_type": "markdown",
   "id": "de72ea5f-fbd0-4558-a3a8-d020ed2e6380",
   "metadata": {},
   "source": [
    "#### dot product 2 vectors"
   ]
  },
  {
   "cell_type": "code",
   "execution_count": 16,
   "id": "8d6bf115-113f-4801-86b3-a084ce5d7cbc",
   "metadata": {},
   "outputs": [],
   "source": [
    "import numpy as np"
   ]
  },
  {
   "cell_type": "code",
   "execution_count": 17,
   "id": "2c124d09-1eb3-4898-980a-623138a3541d",
   "metadata": {},
   "outputs": [],
   "source": [
    "a = [1,2,3]\n",
    "b = [2,3,4]"
   ]
  },
  {
   "cell_type": "code",
   "execution_count": 18,
   "id": "1471c166-a6dd-46ef-a3bf-81f5c1909c9a",
   "metadata": {},
   "outputs": [
    {
     "data": {
      "text/plain": [
       "20"
      ]
     },
     "execution_count": 18,
     "metadata": {},
     "output_type": "execute_result"
    }
   ],
   "source": [
    "np.dot(a, b)"
   ]
  },
  {
   "cell_type": "code",
   "execution_count": null,
   "id": "d7b8d6ca-bec0-4460-9bfa-d0442012b44e",
   "metadata": {},
   "outputs": [],
   "source": [
    "a[0]*b[0]+a[0]*b[0]"
   ]
  }
 ],
 "metadata": {
  "kernelspec": {
   "display_name": "Python 3 (ipykernel)",
   "language": "python",
   "name": "python3"
  },
  "language_info": {
   "codemirror_mode": {
    "name": "ipython",
    "version": 3
   },
   "file_extension": ".py",
   "mimetype": "text/x-python",
   "name": "python",
   "nbconvert_exporter": "python",
   "pygments_lexer": "ipython3",
   "version": "3.12.7"
  }
 },
 "nbformat": 4,
 "nbformat_minor": 5
}
